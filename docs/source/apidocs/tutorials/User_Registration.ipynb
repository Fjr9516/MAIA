{
 "cells": [
  {
   "cell_type": "markdown",
   "id": "428a04b9-92ad-416e-bc60-83435140b4ef",
   "metadata": {},
   "source": [
    "# MAIA User Registration\n",
    "\n",
    "Instructions to read the MAIA User Registration requests from the MySQL database, register the users in Keycloak, create a namespace in the Kubernetes cluster, and store the user information in Vault."
   ]
  },
  {
   "cell_type": "code",
   "execution_count": null,
   "id": "df563ab0d4a1a8a0",
   "metadata": {
    "ExecuteTime": {
     "end_time": "2024-08-02T05:12:26.001216Z",
     "start_time": "2024-08-02T05:12:22.506297Z"
    },
    "scrolled": true
   },
   "outputs": [],
   "source": [
    "!pip install pymysql pandas python-keycloak kubernetes sqlalchemy itables"
   ]
  },
  {
   "cell_type": "markdown",
   "id": "83bebc8b019550eb",
   "metadata": {},
   "source": [
    "## Login to the MySQL database\n",
    "\n",
    "The MySQL database contains the information about the users, the groups they belong to, and the namespaces they requested to be registered in. This Database is directly connected to the [Sign-Up form](https://maia.app.cloud.cbh.kth.se/maia/register)  in the MAIA website ."
   ]
  },
  {
   "cell_type": "code",
   "execution_count": null,
   "id": "c4385222d7d93a1c",
   "metadata": {
    "ExecuteTime": {
     "end_time": "2024-08-28T16:00:58.363833Z",
     "start_time": "2024-08-28T16:00:58.104037Z"
    }
   },
   "outputs": [],
   "source": [
    "from sqlalchemy import create_engine\n",
    "\n",
    "DB_URL = \"\"\n",
    "DB_PORT = \"\"\n",
    "DB_USERNAME = \"\"\n",
    "DB_PASSWORD = \"\"\n",
    "\n",
    "engine = create_engine(f\"mysql+pymysql://{DB_USERNAME}:{DB_PASSWORD}@{DB_URL}:{DB_PORT}/mysql\")\n",
    "cnx = engine.raw_connection()"
   ]
  },
  {
   "cell_type": "code",
   "execution_count": null,
   "id": "327cf8c2d8cd21bf",
   "metadata": {
    "ExecuteTime": {
     "end_time": "2024-08-28T14:18:06.388764Z",
     "start_time": "2024-08-28T14:18:04.918470Z"
    }
   },
   "outputs": [],
   "source": [
    "import pandas as pd"
   ]
  },
  {
   "cell_type": "code",
   "execution_count": null,
   "id": "234b77f6959db15f",
   "metadata": {
    "ExecuteTime": {
     "end_time": "2024-08-28T14:18:07.411409Z",
     "start_time": "2024-08-28T14:18:07.067249Z"
    }
   },
   "outputs": [],
   "source": [
    "pd.read_sql_query(\"SHOW TABLES\", con=cnx)"
   ]
  },
  {
   "cell_type": "markdown",
   "id": "6f1b77f6a7f36794",
   "metadata": {},
   "source": [
    "## Read the tables"
   ]
  },
  {
   "cell_type": "code",
   "execution_count": null,
   "id": "9a638a5c5c705c68",
   "metadata": {
    "ExecuteTime": {
     "end_time": "2024-08-28T14:18:15.154169Z",
     "start_time": "2024-08-28T14:18:14.933753Z"
    }
   },
   "outputs": [],
   "source": [
    "auth_user = pd.read_sql_query(\"SELECT * FROM auth_user\", con=cnx)\n",
    "auth_group = pd.read_sql_query(\"SELECT * FROM auth_group\", con=cnx)\n",
    "auth_user_groups = pd.read_sql_query(\"SELECT * FROM auth_user_groups\", con=cnx)\n",
    "authentication_maiauser = pd.read_sql_query(\"SELECT * FROM authentication_maiauser\", con=cnx)"
   ]
  },
  {
   "cell_type": "code",
   "execution_count": null,
   "id": "ac79f4c595e238e",
   "metadata": {
    "ExecuteTime": {
     "end_time": "2024-08-28T14:18:18.540777Z",
     "start_time": "2024-08-28T14:18:18.136426Z"
    }
   },
   "outputs": [],
   "source": [
    "from itables import init_notebook_mode\n",
    "\n",
    "init_notebook_mode(all_interactive=True)\n",
    "\n",
    "from itables import show"
   ]
  },
  {
   "cell_type": "code",
   "execution_count": null,
   "id": "40d837ed17f09473",
   "metadata": {
    "ExecuteTime": {
     "end_time": "2024-08-28T14:18:21.442546Z",
     "start_time": "2024-08-28T14:18:21.389299Z"
    }
   },
   "outputs": [],
   "source": [
    "show(auth_user,buttons=[\"copyHtml5\", \"csvHtml5\", \"excelHtml5\"],\n",
    "     layout={\"top1\": \"searchPanes\"},\n",
    "    searchPanes={\"layout\": \"columns-3\", \"cascadePanes\": True},)"
   ]
  },
  {
   "cell_type": "code",
   "execution_count": null,
   "id": "e571c492e8ec46f6",
   "metadata": {
    "ExecuteTime": {
     "end_time": "2024-08-28T14:18:33.133638Z",
     "start_time": "2024-08-28T14:18:32.596032Z"
    }
   },
   "outputs": [],
   "source": [
    "from keycloak import KeycloakAdmin\n",
    "from keycloak import KeycloakOpenIDConnection\n",
    "\n",
    "\n",
    "keycloak_connection = KeycloakOpenIDConnection(\n",
    "    \n",
    "                        server_url=\"\",  \n",
    "                        server_url=\"\",\n",
    "                        username='',  \n",
    "                        password='',\n",
    "                        realm_name=\"\",\n",
    "                        client_id=\"\",\n",
    "                        client_secret_key=\"\",\n",
    "                        verify=False)\n",
    "\n",
    "\n",
    "keycloak_admin = KeycloakAdmin(connection=keycloak_connection)"
   ]
  },
  {
   "cell_type": "code",
   "execution_count": null,
   "id": "40eba655204ab9e4",
   "metadata": {
    "ExecuteTime": {
     "end_time": "2024-08-28T14:18:38.481883Z",
     "start_time": "2024-08-28T14:18:37.656114Z"
    },
    "scrolled": true
   },
   "outputs": [],
   "source": [
    "users_to_register = {}\n",
    "\n",
    "\n",
    "for user in auth_user.iterrows():\n",
    "    uid = user[1]['id']\n",
    "    username = user[1]['username']\n",
    "    email = user[1]['email']\n",
    "    user_groups = []\n",
    "    for keycloack_user in keycloak_admin.get_users():\n",
    "\n",
    "        if 'email' in keycloack_user:\n",
    "            if keycloack_user['email'] == email:\n",
    "                user_keycloack_groups = keycloak_admin.get_user_groups(user_id=keycloack_user['id'])\n",
    "                for user_keycloack_group in user_keycloack_groups:\n",
    "                    user_groups.append(user_keycloack_group['name'][len(\"MAIA:\"):])\n",
    "\n",
    "    if uid in authentication_maiauser['user_ptr_id'].values:\n",
    "        requested_namespaces = authentication_maiauser[authentication_maiauser['user_ptr_id'] == uid][\n",
    "            'namespace'].values\n",
    "        print(\n",
    "            f\"User {username} requested to be registered in MAIA in {authentication_maiauser[authentication_maiauser['user_ptr_id'] == uid]['namespace'].values[0]} namespace\")\n",
    "        print(authentication_maiauser[authentication_maiauser['user_ptr_id'] == uid])\n",
    "        for requested_namespace in requested_namespaces:\n",
    "            if requested_namespace not in user_groups:\n",
    "                print(f\"User {username} is not in the group {requested_namespace}\")\n",
    "                #print(user_groups)\n",
    "                if email not in users_to_register:\n",
    "                    users_to_register[email] = [requested_namespace]\n",
    "                else:\n",
    "                    users_to_register[email].append(requested_namespace)\n",
    "               "
   ]
  },
  {
   "cell_type": "markdown",
   "id": "3bc2d24f76cc6f53",
   "metadata": {},
   "source": [
    "## Register the users in Keycloak"
   ]
  },
  {
   "cell_type": "code",
   "execution_count": null,
   "id": "932983c1e4f0a85e",
   "metadata": {},
   "outputs": [],
   "source": [
    "users = keycloak_admin.get_users()\n",
    "keycloak_admin.get_realms()\n",
    "usernames = [user['username'] for user in users]\n",
    "\n",
    "groups = keycloak_admin.get_groups()"
   ]
  },
  {
   "cell_type": "code",
   "execution_count": null,
   "id": "7e9ca702-5753-4416-b8d9-7e35895923d7",
   "metadata": {},
   "outputs": [],
   "source": [
    "users_to_register"
   ]
  },
  {
   "cell_type": "code",
   "execution_count": null,
   "id": "89f76b8db12e75f0",
   "metadata": {},
   "outputs": [],
   "source": [
    "ids_to_register = {}\n",
    "for user in users_to_register:\n",
    "    if user not in usernames:\n",
    "        print(f\"{user} is not registered in Keycloack!\")\n",
    "    else:\n",
    "        for uid in users:\n",
    "            if uid['username'] == user:\n",
    "                ids_to_register[uid['id']]={}\n",
    "                ids_to_register[uid['id']]['username'] = uid['username']\n",
    "                ids_to_register[uid['id']]['groups'] = []"
   ]
  },
  {
   "cell_type": "code",
   "execution_count": null,
   "id": "4615936e235325af",
   "metadata": {},
   "outputs": [],
   "source": [
    "ids_to_register"
   ]
  },
  {
   "cell_type": "code",
   "execution_count": null,
   "id": "74ca8ffe97ec4f3c",
   "metadata": {},
   "outputs": [],
   "source": [
    "existing_groups_to_register = [\"MAIA:users\"]\n",
    "\n",
    "for group in groups:\n",
    "    if group[\"name\"] in existing_groups_to_register:\n",
    "        for id_to_register in ids_to_register:\n",
    "            ids_to_register[id_to_register]['groups'].append(group[\"id\"])\n"
   ]
  },
  {
   "cell_type": "code",
   "execution_count": null,
   "id": "2d11886ae2cee001",
   "metadata": {},
   "outputs": [],
   "source": [
    "for id_to_register in ids_to_register:\n",
    "    namespaces = users_to_register[ids_to_register[id_to_register]['username']]\n",
    "    for namespace in namespaces:\n",
    "        payload = {\n",
    "        \"name\": f\"MAIA:{namespace}\",\n",
    "        \"path\": f\"/MAIA:{namespace}\",\n",
    "        \"attributes\":\n",
    "        \n",
    "        { }\n",
    "        ,\n",
    "        \"realmRoles\": [],\n",
    "        \"clientRoles\":\n",
    "        \n",
    "        {}\n",
    "        ,\n",
    "        \"subGroups\": [],\n",
    "        \"access\":\n",
    "        \n",
    "        { \"view\": True, \"manage\": True, \"manageMembership\": True }\n",
    "        }\n",
    "        try:\n",
    "            group_id = keycloak_admin.create_group(payload)\n",
    "            ids_to_register[id_to_register]['groups'].append(group_id)\n",
    "        except:\n",
    "            for group in groups:\n",
    "                if group[\"name\"] == f\"MAIA:{namespace}\":\n",
    "                    ids_to_register[id_to_register]['groups'].append(group[\"id\"])\n",
    "        "
   ]
  },
  {
   "cell_type": "code",
   "execution_count": null,
   "id": "343e681de97fbaeb",
   "metadata": {},
   "outputs": [],
   "source": [
    "ids_to_register"
   ]
  },
  {
   "cell_type": "markdown",
   "id": "4195ba17e1b6ecde",
   "metadata": {},
   "source": [
    "## Add the users to the groups"
   ]
  },
  {
   "cell_type": "code",
   "execution_count": null,
   "id": "4d9140a8da45ad89",
   "metadata": {},
   "outputs": [],
   "source": [
    "groups = keycloak_admin.get_groups()\n",
    "\n",
    "for uid in ids_to_register:\n",
    "    for user in users:\n",
    "        \n",
    "        if user[\"id\"] == uid:\n",
    "            print(f\"Registering user {user['username']} with id {uid}\")\n",
    "            for gid in ids_to_register[uid]['groups']:\n",
    "                print(gid)\n",
    "                for group in groups:\n",
    "                    if group[\"id\"] == gid:\n",
    "                        print(f\"Adding user {user['username']} to group {group['name']}\")"
   ]
  },
  {
   "cell_type": "code",
   "execution_count": null,
   "id": "92cc9ba8e88938fd",
   "metadata": {},
   "outputs": [],
   "source": [
    "for uid in ids_to_register:\n",
    "    for gid in ids_to_register[uid]['groups']:\n",
    "        keycloak_admin.group_user_add(uid, gid)"
   ]
  },
  {
   "cell_type": "code",
   "execution_count": null,
   "id": "6bd9d551-9486-4ef8-978b-37f1efca6469",
   "metadata": {},
   "outputs": [],
   "source": []
  }
 ],
 "metadata": {
  "kernelspec": {
   "display_name": "Python 3 (ipykernel)",
   "language": "python",
   "name": "python3"
  },
  "language_info": {
   "codemirror_mode": {
    "name": "ipython",
    "version": 3
   },
   "file_extension": ".py",
   "mimetype": "text/x-python",
   "name": "python",
   "nbconvert_exporter": "python",
   "pygments_lexer": "ipython3",
   "version": "3.10.14"
  }
 },
 "nbformat": 4,
 "nbformat_minor": 5
}
