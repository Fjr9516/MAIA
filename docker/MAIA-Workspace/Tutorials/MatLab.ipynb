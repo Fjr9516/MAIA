{
 "cells": [
  {
   "metadata": {},
   "cell_type": "markdown",
   "source": [
    "# MatLab\n",
    "\n",
    "The MAIA Workspace comes with a pre-installed MatLab. In this notebook, we will show how to install a MatLab toolbox and other MatLab versions in the environment."
   ],
   "id": "837df2be875144d5"
  },
  {
   "metadata": {},
   "cell_type": "code",
   "outputs": [],
   "execution_count": null,
   "source": "!wget https://www.mathworks.com/mpm/glnxa64/mpm && chmod +x mpm",
   "id": "554d49ba-c79d-4059-b1a0-a021c37e6b13"
  },
  {
   "metadata": {},
   "cell_type": "markdown",
   "source": "To add the **Parallel Computing** Toolbox to the existing MatLab version [R2023b]:",
   "id": "f93dda1f7268594"
  },
  {
   "cell_type": "code",
   "id": "0087f5d3-b26f-4fe5-9385-2d82611b0bec",
   "metadata": {},
   "source": "!sudo ./mpm install --release R2023b --products MATLAB Parallel_Computing_Toolbox --destination=/opt/matlab",
   "outputs": [],
   "execution_count": null
  }
 ],
 "metadata": {
  "kernelspec": {
   "display_name": "Python 3 (ipykernel)",
   "language": "python",
   "name": "python3"
  },
  "language_info": {
   "codemirror_mode": {
    "name": "ipython",
    "version": 3
   },
   "file_extension": ".py",
   "mimetype": "text/x-python",
   "name": "python",
   "nbconvert_exporter": "python",
   "pygments_lexer": "ipython3",
   "version": "3.10.12"
  }
 },
 "nbformat": 4,
 "nbformat_minor": 5
}
