{
 "cells": [
  {
   "cell_type": "markdown",
   "metadata": {},
   "source": [
    "# Model playground\n",
    "\n",
    "This notebook is for testing out different models and architectures. We have loaded a dataset for you and defined a `DataLoader` for it.\n",
    "The goal is to train a model that achieves at least 75% accuracy on the test set.\n",
    "\n",
    "You can use any model architecture, any optimizer, and any loss function. \n",
    "\n",
    "We expect you to try out:\n",
    "- Regularization techniques: dropout, weight decay, early stopping, data augmentation\n",
    "- Transfer learning\n",
    "- Hyperparameter tuning\n",
    "\n",
    "We have provided you with some code to get started. Feel free to modify it."
   ]
  },
  {
   "cell_type": "code",
   "execution_count": 2,
   "metadata": {},
   "outputs": [
    {
     "name": "stdout",
     "output_type": "stream",
     "text": [
      "using device: cuda\n"
     ]
    }
   ],
   "source": [
    "import torch\n",
    "import torch.nn as nn\n",
    "import torch.optim as optim\n",
    "from torch.utils.data import DataLoader\n",
    "from torch.utils.data import sampler\n",
    "\n",
    "import torchvision.datasets as dset\n",
    "import torchvision.transforms as T\n",
    "import matplotlib.pyplot as plt\n",
    "\n",
    "import numpy as np\n",
    "\n",
    "USE_GPU = True\n",
    "dtype = torch.float32 # We will be using float throughout this tutorial.\n",
    "\n",
    "if USE_GPU and torch.cuda.is_available():\n",
    "    device = torch.device('cuda')\n",
    "else:\n",
    "    device = torch.device('cpu')\n",
    "\n",
    "# Constant to control how frequently we print train loss.\n",
    "print_every = 100\n",
    "print('using device:', device)"
   ]
  },
  {
   "cell_type": "code",
   "execution_count": 7,
   "metadata": {},
   "outputs": [
    {
     "name": "stdout",
     "output_type": "stream",
     "text": [
      "Downloading https://zenodo.org/records/10519652/files/dermamnist.npz?download=1 to cm2003/datasets/dermamnist.npz\n"
     ]
    },
    {
     "name": "stderr",
     "output_type": "stream",
     "text": [
      "100%|██████████| 19725078/19725078 [00:00<00:00, 32471604.97it/s]\n"
     ]
    },
    {
     "name": "stdout",
     "output_type": "stream",
     "text": [
      "Using downloaded and verified file: cm2003/datasets/dermamnist.npz\n",
      "Using downloaded and verified file: cm2003/datasets/dermamnist.npz\n"
     ]
    }
   ],
   "source": [
    "from medmnist import DermaMNIST\n",
    "transform = T.Compose([\n",
    "                T.ToTensor(),\n",
    "                T.Normalize((0.5719),(0.1684)) \n",
    "            ])\n",
    "\n",
    "dataset_train = DermaMNIST(root='cm2003/datasets', split='train', transform=transform, download=True)\n",
    "loader_train = DataLoader(dataset_train, batch_size=64, shuffle=True, num_workers=2)\n",
    "\n",
    "dataset_val = DermaMNIST(root='cm2003/datasets', split='val', transform=transform, download=True)\n",
    "loader_val = DataLoader(dataset_val, batch_size=64, shuffle=True, num_workers=2)\n",
    "\n",
    "dataset_test = DermaMNIST(root='cm2003/datasets', split='test', transform=transform, download=True)\n",
    "loader_test = DataLoader(dataset_test, batch_size=64, shuffle=True, num_workers=2)\n"
   ]
  },
  {
   "cell_type": "code",
   "execution_count": 10,
   "metadata": {},
   "outputs": [
    {
     "name": "stdout",
     "output_type": "stream",
     "text": [
      "Image shape: torch.Size([3, 28, 28])\n"
     ]
    },
    {
     "data": {
      "image/png": "[encoded data removed]",
      "text/plain": [
       "<Figure size 640x480 with 1 Axes>"
      ]
     },
     "metadata": {},
     "output_type": "display_data"
    }
   ],
   "source": [
    "image, label = dataset_train[5]\n",
    "print(f\"Image shape: {image.shape}\")\n",
    "\n",
    "# Reshape and convert the image for display\n",
    "image_display = image.permute(1, 2, 0).numpy()  # Change from (3, 28, 28) to (28, 28, 3)\n",
    "image_display = (image_display * 0.1684) + 0.5719  # Denormalize the image\n",
    "image_display = np.clip(image_display, 0, 1)  # Clip values to [0, 1] range\n",
    "\n",
    "plt.imshow(image_display)\n",
    "plt.title(f'Label: {label}')\n",
    "plt.axis('off')\n",
    "plt.show()"
   ]
  },
  {
   "cell_type": "code",
   "execution_count": 11,
   "metadata": {},
   "outputs": [
    {
     "name": "stdout",
     "output_type": "stream",
     "text": [
      "Epoch 1/10:\n",
      "Train Loss: 1.0551\n",
      "Val Loss: 0.9193, Val Accuracy: 0.6680\n",
      "Epoch 2/10:\n",
      "Train Loss: 0.9071\n",
      "Val Loss: 0.8139, Val Accuracy: 0.6909\n",
      "Epoch 3/10:\n",
      "Train Loss: 0.8440\n",
      "Val Loss: 0.7856, Val Accuracy: 0.7069\n",
      "Epoch 4/10:\n",
      "Train Loss: 0.8109\n",
      "Val Loss: 0.7826, Val Accuracy: 0.7049\n",
      "Epoch 5/10:\n",
      "Train Loss: 0.7950\n",
      "Val Loss: 0.7436, Val Accuracy: 0.7188\n",
      "Epoch 6/10:\n",
      "Train Loss: 0.7606\n",
      "Val Loss: 0.7449, Val Accuracy: 0.7228\n",
      "Epoch 7/10:\n",
      "Train Loss: 0.7473\n",
      "Val Loss: 0.7118, Val Accuracy: 0.7458\n",
      "Epoch 8/10:\n",
      "Train Loss: 0.7360\n",
      "Val Loss: 0.6961, Val Accuracy: 0.7468\n",
      "Epoch 9/10:\n",
      "Train Loss: 0.7147\n",
      "Val Loss: 0.7115, Val Accuracy: 0.7468\n",
      "Epoch 10/10:\n",
      "Train Loss: 0.7004\n",
      "Val Loss: 0.7092, Val Accuracy: 0.7318\n",
      "Test Loss: 0.7138, Test Accuracy: 0.7232\n",
      "Train Loss: 0.6663, Train Accuracy: 0.7421\n"
     ]
    }
   ],
   "source": [
    "from cm2003.models import alexnet\n",
    "from cm2003.train import train, check_accuracy\n",
    "\n",
    "\n",
    "model = alexnet.AlexNet(num_classes=7, in_channels=3)\n",
    "\n",
    "# Define loss function and optimizer\n",
    "criterion = nn.CrossEntropyLoss()\n",
    "optimizer = torch.optim.Adam(model.parameters(), lr=0.001)\n",
    "\n",
    "# Set device\n",
    "device = torch.device(\"cuda\" if torch.cuda.is_available() else \"cpu\")\n",
    "model.to(device)\n",
    "\n",
    "# Set number of epochs\n",
    "num_epochs = 10\n",
    "\n",
    "\n",
    "# Train the model\n",
    "model, results = train(model, loader_train, loader_val, criterion, optimizer, device, num_epochs)\n",
    "\n",
    "# Check accuracy on the test set\n",
    "test_loss, test_accuracy = check_accuracy(model, loader_test, criterion, device)\n",
    "train_loss, train_accuracy = check_accuracy(model, loader_train, criterion, device)\n",
    "print(f\"Test Loss: {test_loss:.4f}, Test Accuracy: {test_accuracy:.4f}\")\n",
    "print(f\"Train Loss: {train_loss:.4f}, Train Accuracy: {train_accuracy:.4f}\")\n",
    "\n"
   ]
  }
 ],
 "metadata": {
  "kernelspec": {
   "display_name": "Python 3",
   "language": "python",
   "name": "python3"
  },
  "language_info": {
   "codemirror_mode": {
    "name": "ipython",
    "version": 3
   },
   "file_extension": ".py",
   "mimetype": "text/x-python",
   "name": "python",
   "nbconvert_exporter": "python",
   "pygments_lexer": "ipython3",
   "version": "3.12.4"
  }
 },
 "nbformat": 4,
 "nbformat_minor": 2
}
