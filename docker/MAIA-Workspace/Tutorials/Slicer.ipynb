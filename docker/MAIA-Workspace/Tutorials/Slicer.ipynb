{
 "cells": [
  {
   "cell_type": "markdown",
   "id": "ca0f94db7b296c67",
   "metadata": {},
   "source": [
    "# 3D Slicer"
   ]
  },
  {
   "cell_type": "markdown",
   "id": "2ef1c35ba1bb1450",
   "metadata": {},
   "source": [
    "To Install 3D Slicer (v5.7.0):"
   ]
  },
  {
   "cell_type": "code",
   "execution_count": null,
   "id": "1afc274b-598f-4dc9-92d6-54057a099c94",
   "metadata": {},
   "outputs": [
    {
     "name": "stderr",
     "output_type": "stream",
     "text": [
      "--2024-10-16 12:20:25--  https://download.slicer.org/bitstream/66653094c8a295ea3286e97a\n",
      "Resolving download.slicer.org (download.slicer.org)... 66.162.65.219\n",
      "Connecting to download.slicer.org (download.slicer.org)|66.162.65.219|:443... connected.\n",
      "HTTP request sent, awaiting response... 302 FOUND\n",
      "Location: https://slicer-packages.kitware.com/api/v1/item/66653094c8a295ea3286e97a/download [following]\n",
      "--2024-10-16 12:20:26--  https://slicer-packages.kitware.com/api/v1/item/66653094c8a295ea3286e97a/download\n",
      "Resolving slicer-packages.kitware.com (slicer-packages.kitware.com)... 216.136.40.52\n",
      "Connecting to slicer-packages.kitware.com (slicer-packages.kitware.com)|216.136.40.52|:443... connected.\n"
     ]
    }
   ],
   "source": [
    "%%bash\n",
    "\n",
    "cd /home/maia-user/Documents && wget https://download.slicer.org/bitstream/66653094c8a295ea3286e97a -O slicer.tar.gz && \\\n",
    "    tar -xzf slicer.tar.gz && \\\n",
    "    rm slicer.tar.gz"
   ]
  },
  {
   "cell_type": "markdown",
   "id": "51fb3f5850fcd233",
   "metadata": {},
   "source": [
    "## Pre-Install Slicer Extensions"
   ]
  },
  {
   "cell_type": "markdown",
   "id": "e0654203bc20221d",
   "metadata": {},
   "source": [
    "To pre-install "
   ]
  },
  {
   "cell_type": "code",
   "execution_count": null,
   "id": "ffa8fea2-07dc-42fc-8dbf-aac23eff5290",
   "metadata": {
    "collapsed": true,
    "jupyter": {
     "outputs_hidden": true
    }
   },
   "outputs": [],
   "source": [
    "%%bash\n",
    "\n",
    "/home/maia-user/Documents/Slicer-5.7.0-2024-06-08-linux-amd64/Slicer --python-script /home/maia-user/Tutorials/Slicer_Extensions.py"
   ]
  },
  {
   "cell_type": "markdown",
   "id": "19c0de94be7f2ffe",
   "metadata": {},
   "source": [
    "## Run Slicer"
   ]
  },
  {
   "cell_type": "code",
   "execution_count": null,
   "id": "6ed7ad94-e929-42e4-a049-5264d0ad3615",
   "metadata": {},
   "outputs": [],
   "source": [
    "%%bash\n",
    "\n",
    "/home/maia-user/Documents/Slicer-5.7.0-2024-06-08-linux-amd64/Slicer"
   ]
  },
  {
   "cell_type": "code",
   "execution_count": null,
   "id": "7dc3998f-89e3-4d8d-ad28-214e438640de",
   "metadata": {},
   "outputs": [],
   "source": []
  }
 ],
 "metadata": {
  "kernelspec": {
   "display_name": "Python 3 (ipykernel)",
   "language": "python",
   "name": "python3"
  },
  "language_info": {
   "codemirror_mode": {
    "name": "ipython",
    "version": 3
   },
   "file_extension": ".py",
   "mimetype": "text/x-python",
   "name": "python",
   "nbconvert_exporter": "python",
   "pygments_lexer": "ipython3",
   "version": "3.10.12"
  }
 },
 "nbformat": 4,
 "nbformat_minor": 5
}
