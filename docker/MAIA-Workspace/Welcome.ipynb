{
 "cells": [
  {
   "cell_type": "markdown",
   "id": "11b8b6e930e5e648",
   "metadata": {
    "collapsed": false,
    "jupyter": {
     "outputs_hidden": false
    }
   },
   "source": [
    "# Welcome to MAIA Workspace\n",
    "\n",
    "MAIA Workspace is a Jupyter-based environment, specifically designed for Medical AI-based applications. It provides a set of tools and resources to facilitate the development of AI-based solutions in the medical field. \n",
    "\n",
    "The MAIA Workspace can be used from any device with a web browser, and it is accessible from anywhere in the world. It is a cloud-based environment that provides a set of pre-configured tools and computing resources to facilitate the development of AI-based solutions in the medical field.\n",
    "\n",
    "In addition to the classic Jupyter interface, the MAIA workspace can be accessed via SSH, allowing you to run commands and scripts in a terminal-like environment. This feature is particularly useful for running long-running tasks or for accessing the workspace from devices that do not support a graphical interface. \n",
    "\n",
    "Furthermore, the MAIA Workspace is a complete Remote Desktop environment, allowing you to run graphical applications and access the workspace as if you were using a local computer. This feature is particularly useful for running applications that require a graphical interface, such as medical imaging software or visualization tools.\n"
   ]
  },
  {
   "cell_type": "code",
   "execution_count": null,
   "id": "e3b5cb8c-60e9-43a5-870e-88e1cbde2b08",
   "metadata": {},
   "outputs": [],
   "source": [
    "from IPython.display import Image\n",
    "from IPython.core.display import HTML \n",
    "Image(filename= \"MAIA.png\", width=500)"
   ]
  },
  {
   "cell_type": "markdown",
   "id": "f241ed1edd78ce24",
   "metadata": {},
   "source": [
    "## 1. SSH Access\n",
    "\n",
    "In order to access the MAIA Workspace via SSH, you need to provide a valid SSH Public Key. If you do not have an SSH Public Key, you can generate one using the following command:\n",
    "\n",
    "\n",
    "```bash\n",
    "ssh-keygen -t rsa -b 4096 \n",
    "```"
   ]
  },
  {
   "cell_type": "markdown",
   "id": "e9b343538d00b423",
   "metadata": {},
   "source": [
    "Run the cell below to load the environment variables:"
   ]
  },
  {
   "cell_type": "code",
   "execution_count": 23,
   "id": "6262205be752a21b",
   "metadata": {
    "ExecuteTime": {
     "end_time": "2024-08-27T06:52:11.389829Z",
     "start_time": "2024-08-27T06:52:10.815653Z"
    }
   },
   "outputs": [],
   "source": [
    "from IPython.display import Markdown\n",
    "from IPython.core.magic import register_cell_magic\n",
    "import os\n",
    "from dotenv import load_dotenv\n",
    "\n",
    "load_dotenv()\n",
    "\n",
    "#JUPYTERHUB_POD_NAME = os.getenv(\"JUPYTERHUB_POD_NAME\", \"N/A\")\n",
    "#MINIO_CONSOLE_URL = os.environ.get(\"MINIO_CONSOLE_URL\", \"N/A\")\n",
    "HOSTNAME = os.environ.get(\"HOSTNAME\", \"N/A\")\n",
    "JUPYTERHUB_USER = os.environ.get(\"JUPYTERHUB_USER\", \"N/A\")\n",
    "JUPYTERHUB_BASE_URL = os.environ.get(\"JUPYTERHUB_BASE_URL\", \"\")\n",
    "SSH_USERNAME = JUPYTERHUB_USER.replace(\"@\",\"__at__\")\n",
    "SSH_PORT = os.environ.get(f\"SSH_PORT_{SSH_USERNAME}\", \"N/A\")\n",
    "@register_cell_magic\n",
    "def markdown(line, cell):\n",
    "    return Markdown(cell.format(**globals()))"
   ]
  },
  {
   "cell_type": "markdown",
   "id": "b6ad0bb656b85832",
   "metadata": {},
   "source": [
    "To automatically generate an SSH key pair and upload the public key to the MAIA Workspace, you can run the following code cell:"
   ]
  },
  {
   "cell_type": "code",
   "execution_count": null,
   "id": "fe80a960c0694d52",
   "metadata": {},
   "outputs": [],
   "source": [
    "import subprocess\n",
    "import shutil\n",
    "import os\n",
    "\n",
    "key_name = os.environ.get(\"JUPYTERHUB_USER\", \"N/A\").split(\"@\")[0]\n",
    "subprocess.run([\"ssh-keygen\", \"-t\", \"rsa\", \"-b\", \"4096\",\"-N\",\"\",\"-f\",f\"/home/maia-user/.ssh/{key_name}_ssh_key\"])\n",
    "\n",
    "with open(f\"/home/maia-user/.ssh/{key_name}_ssh_key.pub\",\"r\") as f:\n",
    "    with open(\".ssh/authorized_keys\", \"a\") as file:\n",
    "        file.write(f.readline())\n",
    "print(\"Please download your SSH key:\")\n",
    "shutil.copy(f\"/home/maia-user/.ssh/{key_name}_ssh_key\",f\"/home/maia-user/{key_name}_ssh_key\")"
   ]
  },
  {
   "cell_type": "markdown",
   "id": "a46c6aa458505470",
   "metadata": {},
   "source": [
    "Instead, to upload your own SSH Public Key to the MAIA Workspace, please follow these steps:"
   ]
  },
  {
   "cell_type": "code",
   "execution_count": null,
   "id": "bd9ea8046ef651e8",
   "metadata": {},
   "outputs": [],
   "source": [
    "ssh_key = \"PASTE YOUR SSH PUBLIC KEY HERE\"\n",
    "\n",
    "with open(\".ssh/authorized_keys\", \"a\") as file:\n",
    "    file.write(ssh_key)"
   ]
  },
  {
   "cell_type": "markdown",
   "id": "30d59baf9ec3d680",
   "metadata": {},
   "source": [
    "To successfully upload your SSH Public Key, you need to set the correct permissions on the `.ssh` directory and the `authorized_keys` file. You can do this by running the following commands:"
   ]
  },
  {
   "cell_type": "code",
   "execution_count": null,
   "id": "6504b3b903afb82f",
   "metadata": {},
   "outputs": [],
   "source": [
    "!chmod 700 /home/maia-user"
   ]
  },
  {
   "cell_type": "markdown",
   "id": "1c60438f3d191834",
   "metadata": {},
   "source": [
    "After uploading your SSH Public Key, you can access the MAIA Workspace via SSH using the following commands:\n",
    "\n",
    "1. Open a terminal on your local machine.\n",
    "2. Run the following command to establish the SSH connection from your local machine to the MAIA Workspace"
   ]
  },
  {
   "cell_type": "code",
   "execution_count": null,
   "id": "27812f275c3e37ea",
   "metadata": {},
   "outputs": [],
   "source": [
    "%%markdown\n",
    "\n",
    "`ssh maia-user@{HOSTNAME} -p {SSH_PORT}`"
   ]
  },
  {
   "cell_type": "markdown",
   "id": "5d1ddb6dd58b93df",
   "metadata": {
    "collapsed": false,
    "jupyter": {
     "outputs_hidden": false
    }
   },
   "source": [
    "## 2. Available Tools"
   ]
  },
  {
   "cell_type": "markdown",
   "id": "e9a43b30685b3017",
   "metadata": {
    "collapsed": false,
    "jupyter": {
     "outputs_hidden": false
    }
   },
   "source": [
    "### 2.1 Anaconda\n",
    "\n",
    "Anaconda is a free and open-source distribution of the Python and R programming languages for scientific computing, that aims to simplify package management and deployment. The distribution includes data-science packages suitable for Windows, Linux, and macOS. To learn more about how to use Anaconda in the MAIA Workspace, please refer to [Tutorials/Anaconda](Tutorials/Anaconda.ipynb)."
   ]
  },
  {
   "cell_type": "markdown",
   "id": "c253b6a9a063cfae",
   "metadata": {},
   "source": [
    "### 2.2 Remote Desktop Access\n",
    "\n",
    "MAIA Workspace provides a complete Remote Desktop environment that allows you to run graphical applications and access the workspace as if you were using a local computer. To access the Remote Desktop, please visit the following link: \n"
   ]
  },
  {
   "cell_type": "code",
   "execution_count": 25,
   "id": "c43703aaabc46806",
   "metadata": {},
   "outputs": [
    {
     "data": {
      "text/markdown": [
       "\n",
       "[Remote Desktop](/testing-maia-hub/user/test@maia.se/proxy/80/desktop/test@maia.se/)\n"
      ],
      "text/plain": [
       "<IPython.core.display.Markdown object>"
      ]
     },
     "execution_count": 25,
     "metadata": {},
     "output_type": "execute_result"
    }
   ],
   "source": [
    "%%markdown\n",
    "\n",
    "[Remote Desktop]({JUPYTERHUB_BASE_URL}user/{JUPYTERHUB_USER}/proxy/80/desktop/{JUPYTERHUB_USER}/)"
   ]
  },
  {
   "cell_type": "markdown",
   "id": "3e1f6339898a4e30",
   "metadata": {},
   "source": [
    "### 2.2.1 3D Slicer\n",
    "\n",
    "3D Slicer is a free, open-source, extensible application for visualization and image analysis. It is widely used in the field of medical computing, with applications in image-guided therapy, surgical planning, and medical research. \n",
    "\n",
    "To access 3D Slicer via the Remote Desktop, please follow the instructions at [Tutorials/3D Slicer](Tutorials/Slicer.ipynb)."
   ]
  },
  {
   "cell_type": "markdown",
   "id": "be5b7c6609061d39",
   "metadata": {},
   "source": [
    "### 2.2.2 MatLab\n",
    "\n",
    "MATLAB is a high-performance language for technical computing. It integrates computation, visualization, and programming in an easy-to-use environment where problems and solutions are expressed in familiar mathematical notation.\n",
    "\n",
    "For more information on how to use MATLAB in the MAIA Workspace, please refer to [Tutorials/MatLab](Tutorials/MatLab.ipynb)."
   ]
  },
  {
   "cell_type": "markdown",
   "id": "877ca77cd0b1afdb",
   "metadata": {},
   "source": [
    "### 2.3 MinIO Storage\n",
    "\n",
    "MAIA Workspace optionally (upon request) provides a MinIO storage service that allows you to store and access data from anywhere.\n",
    "All the users in the same namespace can access the shared MinIO bucket and share files and data with each other.\n",
    "More information about MinIO can be found at [Tutorials/MinIO](Tutorials/MinIO.ipynb).\n",
    "To access the MinIO storage from the MinIO console, please visit the following link: \n",
    "\n"
   ]
  },
  {
   "cell_type": "code",
   "execution_count": null,
   "id": "a584c7c4d4f07a35",
   "metadata": {},
   "outputs": [],
   "source": [
    "%%markdown\n",
    "\n",
    "[MinIO Console](/minio-console)"
   ]
  },
  {
   "cell_type": "markdown",
   "id": "7342d7f31711804f",
   "metadata": {},
   "source": [
    "### 2.4 MLFlow\n",
    "\n",
    "MLflow is an open-source platform to manage the end-to-end machine learning lifecycle. It provides tracking of experiments, packaging code into reproducible runs, and sharing and deploying models. To learn more about how to use MLFlow in the MAIA Workspace, please refer to [Tutorials/MLFlow](Tutorials/MLFlow.ipynb).\n",
    "\n",
    "To access the MLFlow UI, please visit the following link:"
   ]
  },
  {
   "cell_type": "code",
   "execution_count": null,
   "id": "a471488de49ff129",
   "metadata": {},
   "outputs": [],
   "source": [
    "%%markdown\n",
    "\n",
    "[MLFlow](/mlflow)"
   ]
  },
  {
   "cell_type": "markdown",
   "id": "458417d83ed9fe93",
   "metadata": {},
   "source": [
    "### 2.5 MySQL and DTale\n",
    "\n",
    "MAIA Workspace provides a MySQL database and DTale, a Python library that allows you to visualize and analyze data in a Jupyter notebook. To learn more about how to use MySQL and DTale in the MAIA Workspace, please refer to [Tutorials/MySQL](Tutorials/MySQL.ipynb).\n"
   ]
  },
  {
   "cell_type": "code",
   "execution_count": null,
   "id": "7b129f25-b392-4472-b328-ac999639ca73",
   "metadata": {},
   "outputs": [],
   "source": []
  }
 ],
 "metadata": {
  "kernelspec": {
   "display_name": "Python 3 (ipykernel)",
   "language": "python",
   "name": "python3"
  },
  "language_info": {
   "codemirror_mode": {
    "name": "ipython",
    "version": 3
   },
   "file_extension": ".py",
   "mimetype": "text/x-python",
   "name": "python",
   "nbconvert_exporter": "python",
   "pygments_lexer": "ipython3",
   "version": "3.10.12"
  }
 },
 "nbformat": 4,
 "nbformat_minor": 5
}
